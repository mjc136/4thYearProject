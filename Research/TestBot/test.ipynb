{
 "cells": [
  {
   "cell_type": "code",
   "execution_count": 1,
   "metadata": {},
   "outputs": [],
   "source": [
    "import os\n",
    "\n",
    "from groq import Groq"
   ]
  },
  {
   "cell_type": "code",
   "execution_count": null,
   "metadata": {},
   "outputs": [
    {
     "ename": "",
     "evalue": "",
     "output_type": "error",
     "traceback": [
      "\u001b[1;31mThe kernel failed to start as 'has_suggestion' could not be imported from 'C:\\Users\\mjcul\\AppData\\Local\\Packages\\PythonSoftwareFoundation.Python.3.10_qbz5n2kfra8p0\\LocalCache\\local-packages\\Python310\\site-packages\\prompt_toolkit\\filters\\__init__.py'.\n",
      "\u001b[1;31mClick <a href='https://aka.ms/kernelFailuresModuleImportErrFromFile'>here</a> for more info."
     ]
    }
   ],
   "source": [
    "client = Groq(\n",
    "\n",
    "    # This is the default and can be omitted\n",
    "\n",
    "    api_key=\"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\"\n",
    "\n",
    ")\n",
    "\n",
    "def create_entry(role,content,entries: list):\n",
    "    entry = {\n",
    "                \"role\" : role,\n",
    "                \"content\" : content,\n",
    "            }\n",
    "    entries.append(entry)\n",
    "    return entries\n",
    "\n",
    "entries = []\n",
    "create_entry(\"system\",\"You are a language teacher you help people to learn a language of there chosing.\",entries)\n",
    "\n",
    "while True:\n",
    "    query = input(\"Enter Message: \")\n",
    "    entries = create_entry(\"user\", query, entries)\n",
    "\n",
    "    chat_completion = client.chat.completions.create(\n",
    "\n",
    "        messages = entries,\n",
    "\n",
    "        model=\"llama-3.1-70b-versatile\",\n",
    "    )\n",
    "\n",
    "    response = chat_completion.choices[0].message.content\n",
    "    print(response)\n",
    "    create_entry(\"assistant\", response, entries)"
   ]
  }
 ],
 "metadata": {
  "kernelspec": {
   "display_name": "Python 3",
   "language": "python",
   "name": "python3"
  },
  "language_info": {
   "codemirror_mode": {
    "name": "ipython",
    "version": 3
   },
   "file_extension": ".py",
   "mimetype": "text/x-python",
   "name": "python",
   "nbconvert_exporter": "python",
   "pygments_lexer": "ipython3",
   "version": "3.10.11"
  }
 },
 "nbformat": 4,
 "nbformat_minor": 2
}
